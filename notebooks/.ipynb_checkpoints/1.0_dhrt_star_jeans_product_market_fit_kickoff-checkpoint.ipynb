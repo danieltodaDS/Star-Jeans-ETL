{
 "cells": [
  {
   "cell_type": "markdown",
   "id": "6220bfb3",
   "metadata": {},
   "source": [
    "# Business Problem \n",
    "Introductory section to briefly present the company, the business challenge, the strategy designed by the company to overcome this challenge and which questions they want answered."
   ]
  },
  {
   "cell_type": "markdown",
   "id": "24271abe",
   "metadata": {},
   "source": [
    "Two Brazilians, partners in some ventures, decided to enter the US fashion market, building their own e-commerce called Star Jeans.\n",
    "\n",
    "Considering the market risks, they planned to start their operation with just one product, in this case jeans, and scale the business as the company grows, which makes it possible to work with a low initial cost.\n",
    "\n",
    "Even so, even with a defined product and target audience, they face difficulties in defining basic business things such as price, type of pants and the material for making each piece.\n",
    "\n",
    "Therefore, they hired a data science consultancy to answer the following questions:\n",
    "\n",
    "- What is the best selling price for the pants?\n",
    "- How many types of pants and their colors for the initial product?\n",
    "- What are the raw materials needed to make the pants?\n",
    "- The main competitors of the company Start Jeans are the American H&M and Macys."
   ]
  },
  {
   "cell_type": "markdown",
   "id": "d74d3c2d",
   "metadata": {
    "ExecuteTime": {
     "end_time": "2023-01-26T12:09:25.626540Z",
     "start_time": "2023-01-26T12:09:25.623862Z"
    }
   },
   "source": [
    "# Business Understanding\n",
    "Section to summarize some important points about the business"
   ]
  },
  {
   "cell_type": "markdown",
   "id": "bd5703c1",
   "metadata": {},
   "source": [
    "**What is the main motivation of business?**<br>\n",
    "*Explain briefily about the context on what that questions was made and the main goal of business.*\n",
    "\n",
    "- Two friends intended to enter the fashion market for man audience with a business model of e-commerce, and decided to begin the operation with a single product\n",
    "\n",
    "**The root cause of the problem?** <br>\n",
    "*Explain briefily about why the data solution required by business team is needed (in their view)*\n",
    "\n",
    "- The knowledge about the product market fit will help to optimize the costs, garantee a fair profit and face theirs main competitors. Still, the owner does not have any experience at segment and fear that a bad decision at this stage of company could be crucial. \n",
    "\n",
    "**Quem é o dono do problema?**<br>\n",
    "*It is less obvious when there is no contact with the main stakeholders, which is not the case*\n",
    "\n",
    "- The owners\n",
    "\n"
   ]
  },
  {
   "cell_type": "markdown",
   "id": "995df2b2",
   "metadata": {},
   "source": [
    "## Business Assumptions\n",
    "Subsection to present some results from **external research** of the business segment (constraints, challenges and oportunities) and **some common terms** "
   ]
  },
  {
   "cell_type": "markdown",
   "id": "2cb943a8",
   "metadata": {},
   "source": [
    "- I'm assuming that the first showcase is also the best ranked, and it's a simplified solution to the problem.\n",
    "- More frequent colors and types of pants have greater acceptance by the public and greater appeal for price"
   ]
  },
  {
   "cell_type": "markdown",
   "id": "4c6d6799",
   "metadata": {
    "ExecuteTime": {
     "end_time": "2023-01-26T13:45:57.241585Z",
     "start_time": "2023-01-26T13:45:57.238437Z"
    }
   },
   "source": [
    "# Solution Strategy"
   ]
  },
  {
   "cell_type": "markdown",
   "id": "4c7f5822",
   "metadata": {},
   "source": [
    "- Give a brief explanation about the solution strategy \n",
    "\n",
    "Based on the CRISP-DM method, I sought a complete but simplified solution to the problem, which is valid and generates value for the business.\n",
    "\n",
    "The solution strategy will be based on a market research of H&M (initially), given that it is the main competitor at this segment. The, data extracted from its e-commerce will help to adress this problem. "
   ]
  },
  {
   "cell_type": "markdown",
   "id": "95121ec9",
   "metadata": {
    "ExecuteTime": {
     "end_time": "2023-01-26T13:46:45.169111Z",
     "start_time": "2023-01-26T13:46:45.166933Z"
    }
   },
   "source": [
    "## Deliverable and Prototype\n"
   ]
  },
  {
   "cell_type": "markdown",
   "id": "b2eb7198",
   "metadata": {},
   "source": [
    "**1.** What granularity\n",
    "\n",
    "**2.** What will be delivered (prototype)\n",
    "\n",
    "**3.** Where will be accessible, "
   ]
  },
  {
   "cell_type": "markdown",
   "id": "1195172b",
   "metadata": {},
   "source": [
    "The delivery of the project will be a **dashboard** that will contain:\n",
    "\n",
    "**1.** graphs of the main attributes (price, color, type and raw material) and some first-rate statistics, for regular monitoring, with color and type filter\n",
    "\n",
    "**2.** answers to business questions\n",
    "\n",
    "    - How many types of pants and their colors for the initial product?<br>\n",
    "      A: The two types of pants and colors + frequent in the data set will be recommended\n",
    "\n",
    "    - What is the best selling price for the pants? <br>\n",
    "      A: 15% less than the median price of pants types and colors + frequent\n",
    "\n",
    "    - What are the raw materials needed to make the pants?<br>\n",
    "      A: Raw materials of these most frequent pants\n",
    "  \n"
   ]
  },
  {
   "cell_type": "markdown",
   "id": "51f63bd4",
   "metadata": {},
   "source": [
    "## Solution Process \n",
    "*CRISP-DM or ETL process*"
   ]
  },
  {
   "cell_type": "markdown",
   "id": "af556ade",
   "metadata": {},
   "source": [
    "***FIRST ROUND OF DEVELOPMENT***\n",
    "\n",
    "- Definition of attributes to be extracted from the H&M website\n",
    "- Definition of storage infrastructure (SQLITE3)\n",
    "- ETL Design (Extraction, Transformation and Load Scripts)\n",
    "- Scheduling planning of scripts (dependencies between scripts)\n",
    "- Make the visualizations\n",
    "- Delivery of the final product"
   ]
  },
  {
   "cell_type": "markdown",
   "id": "25130646",
   "metadata": {
    "ExecuteTime": {
     "end_time": "2023-01-26T13:54:51.093223Z",
     "start_time": "2023-01-26T13:54:51.088542Z"
    }
   },
   "source": [
    "## Resources"
   ]
  },
  {
   "cell_type": "markdown",
   "id": "bfbe3dd5",
   "metadata": {},
   "source": [
    "### Data Source\n",
    "\n",
    "- Site da H&M: https://www2.hm.com/en_us/men/products/jeans.html\n",
    "    \n",
    "    The data used to answer the questions were drawn from the first window of the H&M men's jeans session, drawn over a month.\n",
    "\n",
    "\n",
    "- Site da Macys: https://www.macys.com/shop/mens-clothing/mens-jeans"
   ]
  },
  {
   "cell_type": "markdown",
   "id": "a6647c2e",
   "metadata": {},
   "source": [
    "### Tools\n",
    "- Python 3.10.9\n",
    "- Bibliotecas de Webscrapping ( BS4, Selenium )\n",
    "- Jupyter Notebook ( Analise e prototipagens )\n",
    "- Crontjob, Airflow\n",
    "- Streamlit, PowerBI e/ou Tableau "
   ]
  },
  {
   "cell_type": "code",
   "execution_count": null,
   "id": "d89a8e3f",
   "metadata": {},
   "outputs": [],
   "source": []
  }
 ],
 "metadata": {
  "hide_input": false,
  "kernelspec": {
   "display_name": "Python 3 (ipykernel)",
   "language": "python",
   "name": "python3"
  },
  "language_info": {
   "codemirror_mode": {
    "name": "ipython",
    "version": 3
   },
   "file_extension": ".py",
   "mimetype": "text/x-python",
   "name": "python",
   "nbconvert_exporter": "python",
   "pygments_lexer": "ipython3",
   "version": "3.11.0"
  },
  "toc": {
   "base_numbering": 1,
   "nav_menu": {},
   "number_sections": true,
   "sideBar": true,
   "skip_h1_title": false,
   "title_cell": "Table of Contents",
   "title_sidebar": "Contents",
   "toc_cell": false,
   "toc_position": {},
   "toc_section_display": true,
   "toc_window_display": false
  },
  "varInspector": {
   "cols": {
    "lenName": 16,
    "lenType": 16,
    "lenVar": 40
   },
   "kernels_config": {
    "python": {
     "delete_cmd_postfix": "",
     "delete_cmd_prefix": "del ",
     "library": "var_list.py",
     "varRefreshCmd": "print(var_dic_list())"
    },
    "r": {
     "delete_cmd_postfix": ") ",
     "delete_cmd_prefix": "rm(",
     "library": "var_list.r",
     "varRefreshCmd": "cat(var_dic_list()) "
    }
   },
   "types_to_exclude": [
    "module",
    "function",
    "builtin_function_or_method",
    "instance",
    "_Feature"
   ],
   "window_display": false
  }
 },
 "nbformat": 4,
 "nbformat_minor": 5
}
