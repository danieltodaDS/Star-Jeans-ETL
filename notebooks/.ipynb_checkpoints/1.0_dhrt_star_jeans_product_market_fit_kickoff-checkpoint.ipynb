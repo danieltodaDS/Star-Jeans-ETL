{
 "cells": [
  {
   "cell_type": "markdown",
   "id": "714cd48b",
   "metadata": {},
   "source": [
    "\n",
    "---nao faz parte do projeto, esta aqui apenas para me guiar---\n",
    "* 1: intro\n",
    "* 2: intro 2\n",
    "* 3: Modelo de negocios e metricas\n",
    "* 4: Pensamento analitico\n",
    "* 5: Estracao de dados e armazenados em HTML (Webscrapping)\n",
    "* 6: Extracao de dados assincronos\n",
    "* 7: Banco de dados e SQL\n",
    "* 8: Ambiente virtual em Python\n",
    "* 9: Agendamento de Jobs\n",
    "* 10: Primeira rodada de perguntas do CEO\n",
    "* 11: Navegacao pelos sites com Selenium\n",
    "* 12: Segunda rodada de perguntas do CEO"
   ]
  },
  {
   "cell_type": "markdown",
   "id": "6220bfb3",
   "metadata": {},
   "source": [
    "# Business Problem \n",
    "Introductory section to briefly present the company, the business challenge, the strategy designed by the company to overcome this challenge and which questions they want answered."
   ]
  },
  {
   "cell_type": "markdown",
   "id": "878e54ac",
   "metadata": {},
   "source": [
    "A empresa Star Jeans\n",
    "\n",
    "Eduardo e Marcelo são dois brasileiros, amigos e sócios de empreendimento. Depois de vários negócio bem sucedidos, eles estão planejando entrar no mercado de moda dos USA como um modelo de negócio do tipo E-commerce.\n",
    "\n",
    "A idéia inicial é entrar no mercado com apenas um produto e para um público específico, no caso o produto seria calças Jenas para o público masculino. O objetivo é manter o custo de operação baixo e escalar a medida que forem conseguindo clientes.\n",
    "\n",
    "Porém, mesmo com o produto de entrada e a audiência definidos, os dois sócios não tem experiência nesse mercado de moda e portanto não sabem definir coisas básicas como preço, o tipo de calça e o material para a fabricação de cada peça.\n",
    "\n",
    "Assim, os dois sócios contrataram uma consultoria de Ciência de Dados para responder as seguintes perguntas:\n",
    "\n",
    "Qual o melhor preço de venda para as calças?\n",
    "Quantos tipos de calças e suas cores para o produto inicial?\n",
    "Quais as matérias-prima necessárias para confeccionar as calças?\n",
    "As principais concorrentes da empresa Start Jeans são as americadas H&M e Macys."
   ]
  },
  {
   "cell_type": "markdown",
   "id": "d74d3c2d",
   "metadata": {
    "ExecuteTime": {
     "end_time": "2023-01-26T12:09:25.626540Z",
     "start_time": "2023-01-26T12:09:25.623862Z"
    }
   },
   "source": [
    "# Business Understanding\n",
    "Section to summarize some important points about the business"
   ]
  },
  {
   "cell_type": "markdown",
   "id": "bd5703c1",
   "metadata": {},
   "source": [
    "**What is the main motivation of business?**<br>\n",
    "*Explain briefily about the context on what that questions was made and the main goal of business.*\n",
    "\n",
    "- Two friends intended to enter the fashion market for man audience with a business model of e-commerce, and decided to begin the operation with a single product\n",
    "\n",
    "**The root cause of the problem?** <br>\n",
    "*Explain briefily about why the data solution required by business team is needed (in their view)*\n",
    "\n",
    "- The knowledge about the product market fit will help to optimize the costs, garantee a fair profit and face theirs main competitors. Still, the owner does not have any experience at segment and fear that a bad decision at this stage of company could be crucial. \n",
    "\n",
    "**Quem é o dono do problema?**<br>\n",
    "*It is less obvious when there is no contact with the main stakeholders, which is not the case*\n",
    "\n",
    "- The owners\n",
    "\n"
   ]
  },
  {
   "cell_type": "markdown",
   "id": "995df2b2",
   "metadata": {},
   "source": [
    "## Business Assumptions\n",
    "Subsection to present some results from **external research** of the business segment (constraints, challenges and oportunities) and **some common terms** "
   ]
  },
  {
   "cell_type": "code",
   "execution_count": null,
   "id": "7c4b20c2",
   "metadata": {},
   "outputs": [],
   "source": []
  },
  {
   "cell_type": "markdown",
   "id": "4c6d6799",
   "metadata": {
    "ExecuteTime": {
     "end_time": "2023-01-26T13:45:57.241585Z",
     "start_time": "2023-01-26T13:45:57.238437Z"
    }
   },
   "source": [
    "# Solution Strategy"
   ]
  },
  {
   "cell_type": "markdown",
   "id": "4c7f5822",
   "metadata": {},
   "source": [
    "- Give a brief explanation about the solution strategy "
   ]
  },
  {
   "cell_type": "markdown",
   "id": "95121ec9",
   "metadata": {
    "ExecuteTime": {
     "end_time": "2023-01-26T13:46:45.169111Z",
     "start_time": "2023-01-26T13:46:45.166933Z"
    }
   },
   "source": [
    "## Deliverable and Prototype\n"
   ]
  },
  {
   "cell_type": "markdown",
   "id": "71d67498",
   "metadata": {},
   "source": [
    "- What will be delivered (prototype)\n",
    "\n",
    "- What granularity\n",
    "\n",
    "- Where will be accessible, \n",
    "\n"
   ]
  },
  {
   "cell_type": "markdown",
   "id": "51f63bd4",
   "metadata": {},
   "source": [
    "## Solution Process \n",
    "*CRISP-DM or ETL process*"
   ]
  },
  {
   "cell_type": "markdown",
   "id": "f3089ecb",
   "metadata": {
    "ExecuteTime": {
     "end_time": "2023-01-26T15:03:49.786754Z",
     "start_time": "2023-01-26T15:03:49.781929Z"
    }
   },
   "source": [
    "***FIRST ROUND OF DEVELOPMENT***\n",
    "\n",
    "- Gráfico de barras com a mediana dos preço dos produtos, por tipo e cor dos últimos 30 dia\n",
    "- Tabela com as seguintes colunas: id | product_name | product_type | product_color | produ\n",
    "- Definição do schema: Colunas e seu tipo\n",
    "- Definição a infraestrutura de armazenamento ( SQLITE3 )\n",
    "- Design do ETL ( Scripts de Extração, Transformação e Carga )\n",
    "- Planejamento de Agendamento dos scripts ( dependencias entre os scripts )\n",
    "- Fazer as visualizações\n",
    "- Entrega do produto final"
   ]
  },
  {
   "cell_type": "markdown",
   "id": "25130646",
   "metadata": {
    "ExecuteTime": {
     "end_time": "2023-01-26T13:54:51.093223Z",
     "start_time": "2023-01-26T13:54:51.088542Z"
    }
   },
   "source": [
    "## Resources"
   ]
  },
  {
   "cell_type": "markdown",
   "id": "bfbe3dd5",
   "metadata": {},
   "source": [
    "### Data Source\n",
    "- Site da H&M: https://www2.hm.com/en_us/men/products/jeans.html\n",
    "- Site da Macys: https://www.macys.com/shop/mens-clothing/mens-jeans"
   ]
  },
  {
   "cell_type": "markdown",
   "id": "a6647c2e",
   "metadata": {},
   "source": [
    "### Tools\n",
    "- Python 3.10.9\n",
    "- Bibliotecas de Webscrapping ( BS4, Selenium )\n",
    "- Jupyter Notebook ( Analise e prototipagens )\n",
    "- Crontjob, Airflow\n",
    "- Streamlit, PowerBI e/ou Tableau "
   ]
  },
  {
   "cell_type": "code",
   "execution_count": null,
   "id": "d89a8e3f",
   "metadata": {},
   "outputs": [],
   "source": []
  }
 ],
 "metadata": {
  "hide_input": false,
  "kernelspec": {
   "display_name": "Python 3 (ipykernel)",
   "language": "python",
   "name": "python3"
  },
  "language_info": {
   "codemirror_mode": {
    "name": "ipython",
    "version": 3
   },
   "file_extension": ".py",
   "mimetype": "text/x-python",
   "name": "python",
   "nbconvert_exporter": "python",
   "pygments_lexer": "ipython3",
   "version": "3.11.0"
  },
  "toc": {
   "base_numbering": 1,
   "nav_menu": {},
   "number_sections": true,
   "sideBar": true,
   "skip_h1_title": false,
   "title_cell": "Table of Contents",
   "title_sidebar": "Contents",
   "toc_cell": false,
   "toc_position": {},
   "toc_section_display": true,
   "toc_window_display": false
  },
  "varInspector": {
   "cols": {
    "lenName": 16,
    "lenType": 16,
    "lenVar": 40
   },
   "kernels_config": {
    "python": {
     "delete_cmd_postfix": "",
     "delete_cmd_prefix": "del ",
     "library": "var_list.py",
     "varRefreshCmd": "print(var_dic_list())"
    },
    "r": {
     "delete_cmd_postfix": ") ",
     "delete_cmd_prefix": "rm(",
     "library": "var_list.r",
     "varRefreshCmd": "cat(var_dic_list()) "
    }
   },
   "types_to_exclude": [
    "module",
    "function",
    "builtin_function_or_method",
    "instance",
    "_Feature"
   ],
   "window_display": false
  }
 },
 "nbformat": 4,
 "nbformat_minor": 5
}
