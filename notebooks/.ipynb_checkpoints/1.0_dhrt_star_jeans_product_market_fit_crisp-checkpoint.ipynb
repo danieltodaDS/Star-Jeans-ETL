{
 "cells": [
  {
   "cell_type": "markdown",
   "id": "6234a0e4",
   "metadata": {
    "heading_collapsed": true
   },
   "source": [
    "#  IMPORTS & SETTINGS"
   ]
  },
  {
   "cell_type": "code",
   "execution_count": null,
   "id": "d4e040f2",
   "metadata": {
    "hidden": true
   },
   "outputs": [],
   "source": []
  },
  {
   "cell_type": "markdown",
   "id": "6811d089",
   "metadata": {
    "heading_collapsed": true,
    "hidden": true
   },
   "source": [
    "## Helper functions"
   ]
  },
  {
   "cell_type": "markdown",
   "id": "8f4886e0",
   "metadata": {
    "hidden": true
   },
   "source": []
  },
  {
   "cell_type": "markdown",
   "id": "883f200e",
   "metadata": {},
   "source": [
    "# EXTRACT"
   ]
  },
  {
   "cell_type": "markdown",
   "id": "8170b0d3",
   "metadata": {},
   "source": []
  },
  {
   "cell_type": "markdown",
   "id": "731d3953",
   "metadata": {},
   "source": []
  },
  {
   "cell_type": "markdown",
   "id": "843c26a5",
   "metadata": {},
   "source": [
    "# TRANSFORMATION"
   ]
  },
  {
   "cell_type": "markdown",
   "id": "bfce0259",
   "metadata": {},
   "source": []
  },
  {
   "cell_type": "markdown",
   "id": "317ceb75",
   "metadata": {},
   "source": []
  },
  {
   "cell_type": "markdown",
   "id": "2b2d928b",
   "metadata": {},
   "source": [
    "# LOAD DATA"
   ]
  },
  {
   "cell_type": "code",
   "execution_count": null,
   "id": "ef6cb6d5",
   "metadata": {},
   "outputs": [],
   "source": []
  },
  {
   "cell_type": "markdown",
   "id": "be94b617",
   "metadata": {},
   "source": [
    "# ETL TO PRODUCTION"
   ]
  },
  {
   "cell_type": "markdown",
   "id": "3d0a4f56",
   "metadata": {},
   "source": []
  },
  {
   "cell_type": "markdown",
   "id": "f701da5d",
   "metadata": {},
   "source": [
    "## Query tester"
   ]
  },
  {
   "cell_type": "markdown",
   "id": "c60b2fd9",
   "metadata": {},
   "source": []
  }
 ],
 "metadata": {
  "hide_input": false,
  "kernelspec": {
   "display_name": "Python 3 (ipykernel)",
   "language": "python",
   "name": "python3"
  },
  "language_info": {
   "codemirror_mode": {
    "name": "ipython",
    "version": 3
   },
   "file_extension": ".py",
   "mimetype": "text/x-python",
   "name": "python",
   "nbconvert_exporter": "python",
   "pygments_lexer": "ipython3",
   "version": "3.11.0"
  },
  "toc": {
   "base_numbering": 1,
   "nav_menu": {},
   "number_sections": true,
   "sideBar": true,
   "skip_h1_title": false,
   "title_cell": "Table of Contents",
   "title_sidebar": "Contents",
   "toc_cell": false,
   "toc_position": {},
   "toc_section_display": true,
   "toc_window_display": false
  },
  "varInspector": {
   "cols": {
    "lenName": 16,
    "lenType": 16,
    "lenVar": 40
   },
   "kernels_config": {
    "python": {
     "delete_cmd_postfix": "",
     "delete_cmd_prefix": "del ",
     "library": "var_list.py",
     "varRefreshCmd": "print(var_dic_list())"
    },
    "r": {
     "delete_cmd_postfix": ") ",
     "delete_cmd_prefix": "rm(",
     "library": "var_list.r",
     "varRefreshCmd": "cat(var_dic_list()) "
    }
   },
   "types_to_exclude": [
    "module",
    "function",
    "builtin_function_or_method",
    "instance",
    "_Feature"
   ],
   "window_display": false
  }
 },
 "nbformat": 4,
 "nbformat_minor": 5
}
